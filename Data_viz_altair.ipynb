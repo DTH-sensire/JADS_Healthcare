{
  "nbformat": 4,
  "nbformat_minor": 0,
  "metadata": {
    "colab": {
      "provenance": [],
      "authorship_tag": "ABX9TyOORiBN0lXlCb5v/RVrpeeP",
      "include_colab_link": true
    },
    "kernelspec": {
      "name": "python3",
      "display_name": "Python 3"
    },
    "language_info": {
      "name": "python"
    }
  },
  "cells": [
    {
      "cell_type": "markdown",
      "metadata": {
        "id": "view-in-github",
        "colab_type": "text"
      },
      "source": [
        "<a href=\"https://colab.research.google.com/github/DTH-sensire/JADS_Healthcare/blob/main/Data_viz_altair.ipynb\" target=\"_parent\"><img src=\"https://colab.research.google.com/assets/colab-badge.svg\" alt=\"Open In Colab\"/></a>"
      ]
    },
    {
      "cell_type": "code",
      "execution_count": 1,
      "metadata": {
        "colab": {
          "base_uri": "https://localhost:8080/"
        },
        "id": "6Ncy4hIdH2hX",
        "outputId": "fdd652c7-af1a-47ad-ece2-468bef647127"
      },
      "outputs": [
        {
          "output_type": "stream",
          "name": "stdout",
          "text": [
            "Cloning into 'JADS_Healthcare'...\n",
            "remote: Enumerating objects: 9, done.\u001b[K\n",
            "remote: Counting objects: 100% (9/9), done.\u001b[K\n",
            "remote: Compressing objects: 100% (8/8), done.\u001b[K\n",
            "remote: Total 9 (delta 0), reused 0 (delta 0), pack-reused 0\u001b[K\n",
            "Unpacking objects: 100% (9/9), 4.38 MiB | 8.34 MiB/s, done.\n"
          ]
        }
      ],
      "source": [
        "!git clone https://github.com/DTH-sensire/JADS_Healthcare"
      ]
    },
    {
      "cell_type": "code",
      "source": [
        "import pandas as pd\n",
        "\n",
        "df = pd.read_parquet(\"/content/JADS_Healthcare/knee-provider.parquet\")"
      ],
      "metadata": {
        "id": "w5OTNkP_H620"
      },
      "execution_count": 2,
      "outputs": []
    },
    {
      "cell_type": "code",
      "source": [
        "!pip install altair==5.0.0rc1"
      ],
      "metadata": {
        "colab": {
          "base_uri": "https://localhost:8080/"
        },
        "id": "jBTarzmhIHRW",
        "outputId": "fabd7a89-f521-4275-b3aa-6540f3f7db41"
      },
      "execution_count": 3,
      "outputs": [
        {
          "output_type": "stream",
          "name": "stdout",
          "text": [
            "Looking in indexes: https://pypi.org/simple, https://us-python.pkg.dev/colab-wheels/public/simple/\n",
            "Collecting altair==5.0.0rc1\n",
            "  Downloading altair-5.0.0rc1-py3-none-any.whl (709 kB)\n",
            "\u001b[2K     \u001b[90m━━━━━━━━━━━━━━━━━━━━━━━━━━━━━━━━━━━━━━\u001b[0m \u001b[32m709.5/709.5 KB\u001b[0m \u001b[31m12.5 MB/s\u001b[0m eta \u001b[36m0:00:00\u001b[0m\n",
            "\u001b[?25hRequirement already satisfied: typing-extensions>=4.0.1 in /usr/local/lib/python3.9/dist-packages (from altair==5.0.0rc1) (4.5.0)\n",
            "Requirement already satisfied: jinja2 in /usr/local/lib/python3.9/dist-packages (from altair==5.0.0rc1) (3.1.2)\n",
            "Requirement already satisfied: toolz in /usr/local/lib/python3.9/dist-packages (from altair==5.0.0rc1) (0.12.0)\n",
            "Requirement already satisfied: numpy in /usr/local/lib/python3.9/dist-packages (from altair==5.0.0rc1) (1.22.4)\n",
            "Requirement already satisfied: pandas>=0.18 in /usr/local/lib/python3.9/dist-packages (from altair==5.0.0rc1) (1.4.4)\n",
            "Requirement already satisfied: jsonschema>=3.0 in /usr/local/lib/python3.9/dist-packages (from altair==5.0.0rc1) (4.3.3)\n",
            "Requirement already satisfied: pyrsistent!=0.17.0,!=0.17.1,!=0.17.2,>=0.14.0 in /usr/local/lib/python3.9/dist-packages (from jsonschema>=3.0->altair==5.0.0rc1) (0.19.3)\n",
            "Requirement already satisfied: attrs>=17.4.0 in /usr/local/lib/python3.9/dist-packages (from jsonschema>=3.0->altair==5.0.0rc1) (22.2.0)\n",
            "Requirement already satisfied: pytz>=2020.1 in /usr/local/lib/python3.9/dist-packages (from pandas>=0.18->altair==5.0.0rc1) (2022.7.1)\n",
            "Requirement already satisfied: python-dateutil>=2.8.1 in /usr/local/lib/python3.9/dist-packages (from pandas>=0.18->altair==5.0.0rc1) (2.8.2)\n",
            "Requirement already satisfied: MarkupSafe>=2.0 in /usr/local/lib/python3.9/dist-packages (from jinja2->altair==5.0.0rc1) (2.1.2)\n",
            "Requirement already satisfied: six>=1.5 in /usr/local/lib/python3.9/dist-packages (from python-dateutil>=2.8.1->pandas>=0.18->altair==5.0.0rc1) (1.16.0)\n",
            "Installing collected packages: altair\n",
            "  Attempting uninstall: altair\n",
            "    Found existing installation: altair 4.2.2\n",
            "    Uninstalling altair-4.2.2:\n",
            "      Successfully uninstalled altair-4.2.2\n",
            "Successfully installed altair-5.0.0rc1\n"
          ]
        }
      ]
    },
    {
      "cell_type": "code",
      "source": [
        "# Visualisatie\n",
        "import altair as alt\n",
        "alt.data_transformers.disable_max_rows()\n",
        "alt.Chart(df).mark_point().encode(\n",
        "     x='t0_eq5d_index',\n",
        "     y='t1_eq5d_index',\n",
        "     color='t1_sucess'\n",
        " )\n",
        "\n",
        "\n"
      ],
      "metadata": {
        "id": "eOfEZzHWICqm"
      },
      "execution_count": 13,
      "outputs": []
    },
    {
      "cell_type": "code",
      "source": [
        "alt.Chart(df).mark_bar().encode(\n",
        "    x='average(t0_eq5d_index)',\n",
        "    y='t1_sucess'\n",
        ")"
      ],
      "metadata": {
        "id": "KO8AiFoZInFP"
      },
      "execution_count": 14,
      "outputs": []
    },
    {
      "cell_type": "code",
      "source": [
        "df.columns"
      ],
      "metadata": {
        "colab": {
          "base_uri": "https://localhost:8080/"
        },
        "id": "HnDJO8QNIPGc",
        "outputId": "fd3d3e92-eaf0-4a47-8138-498ee5449074"
      },
      "execution_count": 5,
      "outputs": [
        {
          "output_type": "execute_result",
          "data": {
            "text/plain": [
              "Index(['provider_code', 'procedure', 'revision_flag', 'year', 'age_band',\n",
              "       'gender', 't0_assisted', 't0_assisted_by', 't0_symptom_period',\n",
              "       't0_previous_surgery', 't0_living_arrangements', 't0_disability',\n",
              "       'heart_disease', 'high_bp', 'stroke', 'circulation', 'lung_disease',\n",
              "       'diabetes', 'kidney_disease', 'nervous_system', 'liver_disease',\n",
              "       'cancer', 'depression', 'arthritis', 't0_mobility', 't0_self_care',\n",
              "       't0_activity', 't0_discomfort', 't0_anxiety', 't0_eq5d_index_profile',\n",
              "       't0_eq5d_index', 't1_assisted', 't1_assisted_by',\n",
              "       't1_living_arrangements', 't1_disability', 't1_mobility',\n",
              "       't1_self_care', 't1_activity', 't1_discomfort', 't1_anxiety',\n",
              "       't1_satisfaction', 't1_sucess', 't1_allergy', 't1_bleeding', 't1_wound',\n",
              "       't1_urine', 't1_further_surgery', 't1_readmitted',\n",
              "       't1_eq5d_index_profile', 't1_eq5d_index',\n",
              "       'oks_eq_5d_index_t1_predicted', 't0_eq_vas', 't1_eq_vas',\n",
              "       'oks_eq_vas_t1_predicted', 'oks_t0_pain', 'oks_t0_night_pain',\n",
              "       'oks_t0_washing', 'oks_t0_transport', 'oks_t0_walking',\n",
              "       'oks_t0_standing', 'oks_t0_limping', 'oks_t0_kneeling', 'oks_t0_work',\n",
              "       'oks_t0_confidence', 'oks_t0_shopping', 'oks_t0_stairs', 'oks_t0_score',\n",
              "       'oks_t1_pain', 'oks_t1_night_pain', 'oks_t1_washing',\n",
              "       'oks_t1_transport', 'oks_t1_walking', 'oks_t1_standing',\n",
              "       'oks_t1_limping', 'oks_t1_kneeling', 'oks_t1_work', 'oks_t1_confidence',\n",
              "       'oks_t1_shopping', 'oks_t1_stairs', 'oks_t1_score',\n",
              "       'oks_oks_t1_predicted'],\n",
              "      dtype='object')"
            ]
          },
          "metadata": {},
          "execution_count": 5
        }
      ]
    },
    {
      "cell_type": "code",
      "source": [],
      "metadata": {
        "id": "ZPKLxGyaIQSZ"
      },
      "execution_count": null,
      "outputs": []
    }
  ]
}