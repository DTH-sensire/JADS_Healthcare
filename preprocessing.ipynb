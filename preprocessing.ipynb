{
 "cells": [
  {
   "cell_type": "code",
   "execution_count": 1,
   "id": "de9ddc86",
   "metadata": {},
   "outputs": [],
   "source": [
    "import pandas as pd\n",
    "import numpy as np\n",
    "df = pd.read_parquet(\"./knee-provider.parquet\")"
   ]
  },
  {
   "cell_type": "code",
   "execution_count": null,
   "id": "d4e0532c",
   "metadata": {},
   "outputs": [],
   "source": [
    "## Verwijderen van NA of Missende waarden\n",
    "df = df[df.t1_sucess != 9]\n",
    "df = df[df.t1_satisfaction != 9]\n",
    "df = df[df != 999]\n",
    "df = df.dropna(subset=['oks_t1_score', 'oks_t0_score'])"
   ]
  },
  {
   "cell_type": "code",
   "execution_count": 2,
   "id": "4576d29a",
   "metadata": {},
   "outputs": [],
   "source": [
    "## Nieuwe variabelen\n",
    "df['oks_change_score'] = df.oks_t1_score - df.oks_t0_score\n",
    "df['oks_MID'] = np.where((df.oks_change_score >= 10), 'POSITIEF','NEGATIEF') #Als definitie van MID 15 zou zijn. Dit nog onderbouwen met lit.\n",
    "df['succesfaction'] = np.where((df.t1_sucess > 3) & (df.t1_satisfaction > 4) & (df.oks_MID == 'NEGATIEF'), 'NEGATIEF', 'POSITIEF')\n"
   ]
  },
  {
   "cell_type": "code",
   "execution_count": 14,
   "id": "c4580ca5",
   "metadata": {},
   "outputs": [],
   "source": [
    "df.to_csv('./df_new.csv')"
   ]
  },
  {
   "cell_type": "code",
   "execution_count": 4,
   "id": "2bfdd660",
   "metadata": {},
   "outputs": [
    {
     "data": {
      "text/plain": [
       "DataTransformerRegistry.enable('default')"
      ]
     },
     "execution_count": 4,
     "metadata": {},
     "output_type": "execute_result"
    }
   ],
   "source": []
  },
  {
   "cell_type": "code",
   "execution_count": 13,
   "id": "9408e6b1",
   "metadata": {},
   "outputs": [
    {
     "data": {
      "text/plain": [
       "heart_disease  high_bp  stroke  circulation  lung_disease  diabetes  kidney_disease  nervous_system  liver_disease  cancer  depression  arthritis  succesfaction\n",
       "1              1        1       1            1             1         1               1               1              1       1           1          NEGATIEF             1\n",
       "                                                                                                                                                   POSITIEF            51\n",
       "                                                                                                                                        9          POSITIEF             4\n",
       "                                                                                                                            9           9          POSITIEF             1\n",
       "                                                                                                                    9       1           1          POSITIEF             1\n",
       "                                                                                                                                                                    ...  \n",
       "9              9        9       9            9             9         9               9               9              9       1           9          POSITIEF           719\n",
       "                                                                                                                            9           1          NEGATIEF           665\n",
       "                                                                                                                                                   POSITIEF         34128\n",
       "                                                                                                                                        9          NEGATIEF           318\n",
       "                                                                                                                                                   POSITIEF         13711\n",
       "Length: 1073, dtype: int64"
      ]
     },
     "execution_count": 13,
     "metadata": {},
     "output_type": "execute_result"
    }
   ],
   "source": []
  },
  {
   "cell_type": "code",
   "execution_count": null,
   "id": "6265f6be",
   "metadata": {},
   "outputs": [],
   "source": []
  }
 ],
 "metadata": {
  "kernelspec": {
   "display_name": "Python 3",
   "language": "python",
   "name": "python3"
  },
  "language_info": {
   "codemirror_mode": {
    "name": "ipython",
    "version": 3
   },
   "file_extension": ".py",
   "mimetype": "text/x-python",
   "name": "python",
   "nbconvert_exporter": "python",
   "pygments_lexer": "ipython3",
   "version": "3.10.9"
  }
 },
 "nbformat": 4,
 "nbformat_minor": 5
}
